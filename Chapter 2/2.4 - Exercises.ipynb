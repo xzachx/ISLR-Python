{
 "cells": [
  {
   "cell_type": "markdown",
   "metadata": {},
   "source": [
    "# 2.4 Exercises"
   ]
  },
  {
   "cell_type": "markdown",
   "metadata": {},
   "source": [
    "## Conceptual"
   ]
  },
  {
   "cell_type": "markdown",
   "metadata": {},
   "source": [
    "### 1. For each of parts (a) through (d), indicate whether we would generally expect the performance of a flexible statistical learning method to be better or worse than an inflexible method. Justify your answer."
   ]
  },
  {
   "cell_type": "markdown",
   "metadata": {},
   "source": [
    "#### (a) The sample size _n_ is extremely large, and the number of predictors _p_ is small."
   ]
  },
  {
   "cell_type": "markdown",
   "metadata": {},
   "source": [
    "Flexible models can generally produce lower bias, but can also be susceptible to high variance.  Given the large sample size, overfitting is less of a concern and therefore we would expect a flexible model to be a better option in this case. "
   ]
  },
  {
   "cell_type": "markdown",
   "metadata": {},
   "source": [
    "#### (b) The number of predictors _p_ is extremely large, and the number of observations _n_ is small"
   ]
  },
  {
   "cell_type": "markdown",
   "metadata": {},
   "source": [
    "An inflexible model would preferable in this case, as overfitting is a major concern when the sample size is small and number of parameters is large."
   ]
  },
  {
   "cell_type": "markdown",
   "metadata": {},
   "source": [
    "#### (c) The relationship between the predictors and response is highly non-linear"
   ]
  },
  {
   "cell_type": "markdown",
   "metadata": {},
   "source": [
    "Given the nonlinearity of the response, we would expect a flexible model to perform better.  A linear model would most likely result in a very high bias."
   ]
  },
  {
   "cell_type": "markdown",
   "metadata": {},
   "source": [
    "#### (d) The variance of the error terms, i.e. $\\sigma^2 = Var(\\epsilon)$, is extremely high."
   ]
  },
  {
   "cell_type": "markdown",
   "metadata": {},
   "source": [
    "With a very noisy dataset like this, an inflexible model would be expected to perform better.  A more flexible model would be very susceptible to overfitting and would not generalize well to new data."
   ]
  },
  {
   "cell_type": "markdown",
   "metadata": {},
   "source": [
    "### 2. Explain whether each scenario is a classification or regression problem, and indicate whether we are most interested in inference or prediction. Finally, provide _n_ and _p_."
   ]
  },
  {
   "cell_type": "markdown",
   "metadata": {},
   "source": [
    "#### (a) We collect a set of data on the top 500 firms in the US. For each firm we record profit, number of employees, industry and the CEO salary. We are interested in understanding which factors affect CEO salary."
   ]
  },
  {
   "cell_type": "markdown",
   "metadata": {},
   "source": [
    "Regression  \n",
    "Inference  \n",
    "n = 500  \n",
    "p = 3 (profit, number of employees, industry)"
   ]
  },
  {
   "cell_type": "markdown",
   "metadata": {},
   "source": [
    "#### (b) We are considering launching a new product and wish to know whether it will be a success or a failure. We collect data on 20 similar products that were previously launched. For each product we have recorded whether it was a _success_ or _failure_, price charged for the product, marketing budget, competition price, and ten other variables."
   ]
  },
  {
   "cell_type": "markdown",
   "metadata": {},
   "source": [
    "Classification  \n",
    "Prediction  \n",
    "n = 20  \n",
    "p = 13 (price charged for the product, marketing budget, competition price, ten other variables)"
   ]
  },
  {
   "cell_type": "markdown",
   "metadata": {},
   "source": [
    "#### (c) We are interested in predicting the % change in the USD/Euro exchange rate in relation to the weekly changes in the world stock markets. Hence we collect weekly data for all of 2012. For each week we record the % change in the USD/Euro, the % change in the US market, the % change in the British market, and the % change in the German market."
   ]
  },
  {
   "cell_type": "markdown",
   "metadata": {},
   "source": [
    "Regression  \n",
    "Prediction  \n",
    "n = 52  \n",
    "p = 4 (the % change in the USD/Euro, the % change in the US market, the % change in the British market, and the % change in the German market)"
   ]
  },
  {
   "cell_type": "markdown",
   "metadata": {},
   "source": [
    "### 3. We now revisit the bias-variance decomposition."
   ]
  },
  {
   "cell_type": "markdown",
   "metadata": {},
   "source": [
    "#### (a) Provide a sketch of typical (squared) bias, variance, training error, test error, and Bayes (or irreducible) error curves, on a single plot, as we go from less flexible statistical learning methods towards more flexible approaches. The x-axis should represent the amount of flexibility in the method, and the y-axis should represent the values for each curve. There should be five curves. Make sure to label each one."
   ]
  },
  {
   "cell_type": "markdown",
   "metadata": {},
   "source": [
    " "
   ]
  },
  {
   "cell_type": "markdown",
   "metadata": {},
   "source": [
    "#### (b) Explain why each of the five curves has the shape displayed in part (a)."
   ]
  },
  {
   "cell_type": "markdown",
   "metadata": {},
   "source": [
    "Bias - Decreases monotonically as flexibility (degrees of freedom) increases  \n",
    "Variance - Increases monotonically as flexibility increases  \n",
    "Training Error - Decreases monotonically as flexibility increases  \n",
    "Test Error - Decreases, but then starts increasing again at some point due to overfitting as flexibility increases.  \n",
    "Bayes Error - Constant and almost always unknowable."
   ]
  },
  {
   "cell_type": "markdown",
   "metadata": {},
   "source": [
    "### 4. You will now think of some real-life applications for statistical learning."
   ]
  },
  {
   "cell_type": "markdown",
   "metadata": {},
   "source": [
    "#### (a) Describe three real-life applications in which classification might be useful. Describe the response, as well as the predictors. Is the goal of each application inference or prediction? Explain your answer."
   ]
  },
  {
   "cell_type": "markdown",
   "metadata": {},
   "source": [
    "1. Mortgage lending.  Response is whether or not mortgage will default.  Predictors might include salary, loan amount, credit history, etc.  The goal is prediction.  \n",
    "2. Stock market.  Response is whether the stock market will go up or down.  Predictors might be market performance on previous days.  The goal is prediction.  \n",
    "3. Heart disease.  Response is whether or not a person has heart disease.  Predictors might include age, sex, level of activity, diet, etc.  The goal is inference."
   ]
  },
  {
   "cell_type": "markdown",
   "metadata": {},
   "source": [
    "#### (b) Describe three real-life applications in which regression might be useful. Describe the response, as well as the predictors. Is the goal of each application inference or prediction? Explain your answer."
   ]
  },
  {
   "cell_type": "markdown",
   "metadata": {},
   "source": [
    "1. Fantasy baseball.  Response is number of fantasy baseball points.  Predictors might be historical on base percentage, slugging percentage, handedness of opposing pitcher, etc.  The goal is prediction.  \n",
    "2. Beer quality.  Response is the beer's rating score.  Predictors might be things like ABV, type of hops, style of beer, etc.  The goal is inference.  \n",
    "3. Housing market.  Response is the sale price of a house.  Predictors might be square footage, number of bedrooms and bathrooms, neighborhood.  The goal is prediction."
   ]
  },
  {
   "cell_type": "markdown",
   "metadata": {},
   "source": [
    "#### (c) Describe three real-life applications in which cluster analysis might be useful."
   ]
  },
  {
   "cell_type": "markdown",
   "metadata": {},
   "source": [
    "1. Retail user segmentation.  \n",
    "2. Grouping similar movies for a recommender system.  \n",
    "3. Cancer clustering."
   ]
  },
  {
   "cell_type": "markdown",
   "metadata": {},
   "source": [
    "### 5. What are the advantages and disadvantages of a very flexible (versus a less flexible) approach for regression or classification? Under what circumstances might a more flexible approach be preferred to a less flexible approach? When might a less flexible approach be preferred?"
   ]
  },
  {
   "cell_type": "markdown",
   "metadata": {},
   "source": [
    "A very flexible approach for regression and classification can have a very low bias, but may not generalize well (increased variance) due to overfitting.  Flexible approaches are preferred if the response is non-linear, the sample size is large, and inference is not important.  Less flexible approaches are more desirable if the response is linear and inference is important."
   ]
  },
  {
   "cell_type": "markdown",
   "metadata": {},
   "source": [
    "### 6. Describe the differences between a parametric and a non-parametric statistical learning approach. What are the advantages of a parametric approach to regression or classification (as opposed to a non-parametric approach)? What are its disadvantages?"
   ]
  },
  {
   "cell_type": "markdown",
   "metadata": {},
   "source": [
    "Parametric approaches assume a functional form of _f_ and only makes it necessary to estimate a set of parameters.  Non-parametric approaches do not make any assumptions about the shape of _f_ and try to get as close to the data points as possible.  The advantages of a parametric model are its simplicity and the lack of necessity of a large dataset.  A disadvantage of a parametric model is the potential to incorrectly assume the form of _f_, resulting in inaccurate results."
   ]
  },
  {
   "cell_type": "markdown",
   "metadata": {},
   "source": [
    "### 7. The table below provides a training data set containing six observations, three predictors, and one qualitative response variable.\n",
    "<table>\n",
    "    <tr>\n",
    "        <th>Obs.</th>\n",
    "        <th>X1</th>\n",
    "        <th>X2</th>\n",
    "        <th>X3</th>\n",
    "        <th>Y</th>\n",
    "    </tr>\n",
    "    <tr>\n",
    "        <td>1</td>\n",
    "        <td>0</td>\n",
    "        <td>3</td>\n",
    "        <td>0</td>\n",
    "        <td>Red</td>\n",
    "    </tr>\n",
    "    <tr>\n",
    "        <td>2</td>\n",
    "        <td>2</td>\n",
    "        <td>0</td>\n",
    "        <td>0</td>\n",
    "        <td>Red</td>\n",
    "    </tr>\n",
    "    <tr>\n",
    "        <td>3</td>\n",
    "        <td>0</td>\n",
    "        <td>1</td>\n",
    "        <td>3</td>\n",
    "        <td>Red</td>\n",
    "    </tr>\n",
    "    <tr>\n",
    "        <td>4</td>\n",
    "        <td>0</td>\n",
    "        <td>1</td>\n",
    "        <td>2</td>\n",
    "        <td>Green</td>\n",
    "    </tr>\n",
    "    <tr>\n",
    "        <td>5</td>\n",
    "        <td>−1</td>\n",
    "        <td>0</td>\n",
    "        <td>1</td>\n",
    "        <td>Green</td>\n",
    "    </tr>\n",
    "    <tr>\n",
    "        <td>6</td>\n",
    "        <td>1</td>\n",
    "        <td>1</td>\n",
    "        <td>1</td>\n",
    "        <td>Red</td>\n",
    "    </tr>\n",
    "</table>\n",
    "### Suppose we wish to use this data set to make a prediction for Y when X1 = X2 = X3 = 0 using K-nearest neighbors."
   ]
  },
  {
   "cell_type": "markdown",
   "metadata": {},
   "source": [
    "#### (a) Compute the Euclidean distance between each observation and the test point, X1 = X2 = X3 = 0."
   ]
  },
  {
   "cell_type": "markdown",
   "metadata": {},
   "source": [
    "1. 3  \n",
    "2. 2  \n",
    "3. 3.162  \n",
    "4. 2.236  \n",
    "5. 1.414  \n",
    "6. 1.732"
   ]
  },
  {
   "cell_type": "markdown",
   "metadata": {},
   "source": [
    "#### (b) What is our prediction with K = 1? Why?"
   ]
  },
  {
   "cell_type": "markdown",
   "metadata": {},
   "source": [
    "When K = 1, our prediction is green.  We are only looking at the 1 neaest neighbor in this instance, which is observation 5.  Observation 5 is green and so our prediction is also green. "
   ]
  },
  {
   "cell_type": "markdown",
   "metadata": {},
   "source": [
    "#### (c) What is our prediction with K = 3? Why?"
   ]
  },
  {
   "cell_type": "markdown",
   "metadata": {},
   "source": [
    "When K = 3, our prediction is Red.  We are now looking at the hree nearest neighbors, which are observations 2, 5, and 6.  Observation 5 is green, but observations 2 and 6 are both red.  Therefore, our prediction is red."
   ]
  },
  {
   "cell_type": "markdown",
   "metadata": {},
   "source": [
    "#### (d) If the Bayes decision boundary in this problem is highly non-linear, then would we expect the best value for K to be large or small? Why?"
   ]
  },
  {
   "cell_type": "markdown",
   "metadata": {},
   "source": [
    "If the Bayes decision boundary s highly non-linear, we would expect the optimal value of K to be small.  The larger the value of K is, the smoother the boundary becomes, because more data points are taken into account."
   ]
  },
  {
   "cell_type": "markdown",
   "metadata": {},
   "source": [
    "## Applied"
   ]
  },
  {
   "cell_type": "markdown",
   "metadata": {},
   "source": [
    "### 8. This exercise relates to the `College` data set, which can be found in the file `College.csv`. It contains a number of variables for 777 different universities and colleges in the US. The variables are\n",
    "* `Private` : Public/private indicator\n",
    "* `Apps` : Number of applications received\n",
    "* `Accept` : Number of applicants accepted\n",
    "* `Enroll` : Number of new students enrolled\n",
    "* `Top10perc` : New students from top 10 % of high school class\n",
    "* `Top25perc` : New students from top 25 % of high school class\n",
    "* `F.Undergrad` : Number of full-time undergraduates\n",
    "* `P.Undergrad` : Number of part-time undergraduates\n",
    "* `Outstate` : Out-of-state tuition\n",
    "* `Room.Board` : Room and board costs\n",
    "* `Books` : Estimated book costs\n",
    "* `Personal` : Estimated personal spending\n",
    "* `PhD` : Percent of faculty with Ph.D.’s\n",
    "* `Terminal` : Percent of faculty with terminal degree\n",
    "* `S.F.Ratio` : Student/faculty ratio\n",
    "* `perc.alumni` : Percent of alumni who donate\n",
    "* `Expend` : Instructional expenditure per student\n",
    "* `Grad.Rate` : Graduation rate\n",
    "### Before reading the data into R, it can be viewed in Excel or a text editor."
   ]
  },
  {
   "cell_type": "markdown",
   "metadata": {},
   "source": [
    "#### (a) Use the read.csv() function to read the data into R. Call the loaded data college. Make sure that you have the directory set to the correct location for the data."
   ]
  },
  {
   "cell_type": "markdown",
   "metadata": {},
   "source": []
  },
  {
   "cell_type": "markdown",
   "metadata": {},
   "source": [
    "#### (b) Look at the data using the fix() function. You should notice that the first column is just the name of each university. We don’t really want R to treat this as data. However, it may be handy to have these names for later. Try the following commands:  "
   ]
  },
  {
   "cell_type": "markdown",
   "metadata": {},
   "source": [
    "```rownames (college)=college [,1]  \n",
    "fix(college)  \n",
    "```"
   ]
  },
  {
   "cell_type": "markdown",
   "metadata": {},
   "source": [
    "#### You should see that there is now a row.names column with the name of each university recorded. This means that R has given each row a name corresponding to the appropriate university. R will not try to perform calculations on the row names. However, we still need to eliminate the first column in the data where the names are stored. Try  \n",
    "`college =college [,-1]`\n",
    "`fix(college)`  \n",
    "#### Now you should see that the first data column is Private. Note that another column labeled row.names now appears before the Private column. However, this is not a data column but rather the name that R is giving to each row."
   ]
  },
  {
   "cell_type": "markdown",
   "metadata": {},
   "source": [
    "#### (c)  \n",
    "##### i. Use the summary() function to produce a numerical summary of the variables in the data set."
   ]
  },
  {
   "cell_type": "markdown",
   "metadata": {},
   "source": []
  },
  {
   "cell_type": "markdown",
   "metadata": {},
   "source": [
    "##### ii. Use the pairs() function to produce a scatterplot matrix of the first ten columns or variables of the data. Recall that you can reference the first ten columns of a matrix A using  `A[,1:10]`."
   ]
  },
  {
   "cell_type": "markdown",
   "metadata": {},
   "source": []
  },
  {
   "cell_type": "markdown",
   "metadata": {},
   "source": [
    "#### iii. Use the plot() function to produce side-by-side boxplots of Outstate versus Private."
   ]
  },
  {
   "cell_type": "markdown",
   "metadata": {},
   "source": []
  },
  {
   "cell_type": "markdown",
   "metadata": {},
   "source": [
    "##### iv. Create a new qualitative variable, called Elite, by binning the Top10perc variable. We are going to divide universities into two groups based on whether or not the proportion of students coming from the top 10 % of their high school classes exceeds 50 %.  \n",
    "`Elite=rep(\"No\",nrow(college))`  \n",
    "`Elite[college$Top10perc >50]=\"Yes\"`  \n",
    "`Elite=as.factor(Elite)`  \n",
    "`college=data.frame(college, Elite)`  \n",
    "\n",
    "##### Use the summary() function to see how many elite universities there are. Now use the plot() function to produce side-by-side boxplots of Outstate versus Elite."
   ]
  },
  {
   "cell_type": "markdown",
   "metadata": {},
   "source": []
  },
  {
   "cell_type": "markdown",
   "metadata": {},
   "source": [
    "##### v. Use the hist() function to produce some histograms with differing numbers of bins for a few of the quantitative variables. You may find the command par(mfrow=c(2,2)) useful:  it will divide the print window into four regions so that four plots can be made simultaneously. Modifying the arguments to this function will divide the screen in other ways."
   ]
  },
  {
   "cell_type": "markdown",
   "metadata": {},
   "source": []
  },
  {
   "cell_type": "markdown",
   "metadata": {},
   "source": [
    "##### vi. Continue exploring the data, and provide a brief summary of what you discover."
   ]
  },
  {
   "cell_type": "markdown",
   "metadata": {},
   "source": []
  },
  {
   "cell_type": "markdown",
   "metadata": {},
   "source": [
    "### 9. This exercise involves the Auto data set studied in the lab. Make sure that the missing values have been removed from the data."
   ]
  },
  {
   "cell_type": "markdown",
   "metadata": {},
   "source": [
    "#### (a) Which of the predictors are quantitative, and which are qualitative?"
   ]
  },
  {
   "cell_type": "markdown",
   "metadata": {},
   "source": []
  },
  {
   "cell_type": "markdown",
   "metadata": {},
   "source": [
    "#### (b) What is the range of each quantitative predictor? You can answer this using the range() function. range()"
   ]
  },
  {
   "cell_type": "markdown",
   "metadata": {},
   "source": []
  },
  {
   "cell_type": "markdown",
   "metadata": {},
   "source": [
    "#### (c) What is the mean and standard deviation of each quantitative predictor?"
   ]
  },
  {
   "cell_type": "markdown",
   "metadata": {},
   "source": []
  },
  {
   "cell_type": "markdown",
   "metadata": {},
   "source": [
    "#### (d) Now remove the 10th through 85th observations. What is the range, mean, and standard deviation of each predictor in the subset of the data that remains?"
   ]
  },
  {
   "cell_type": "markdown",
   "metadata": {},
   "source": []
  },
  {
   "cell_type": "markdown",
   "metadata": {},
   "source": [
    "#### (e) Using the full data set, investigate the predictors graphically, using scatterplots or other tools of your choice. Create some plots highlighting the relationships among the predictors. Comment on your findings."
   ]
  },
  {
   "cell_type": "code",
   "execution_count": null,
   "metadata": {
    "collapsed": true
   },
   "outputs": [],
   "source": []
  },
  {
   "cell_type": "markdown",
   "metadata": {},
   "source": [
    "#### (f) Suppose that we wish to predict gas mileage (mpg) on the basis of the other variables. Do your plots suggest that any of the other variables might be useful in predicting mpg? Justify your answer."
   ]
  },
  {
   "cell_type": "code",
   "execution_count": null,
   "metadata": {
    "collapsed": true
   },
   "outputs": [],
   "source": []
  },
  {
   "cell_type": "markdown",
   "metadata": {},
   "source": [
    "### 10. This exercise involves the Boston housing data set."
   ]
  },
  {
   "cell_type": "markdown",
   "metadata": {},
   "source": [
    "#### (a) To begin, load in the Boston data set. The Boston data set is part of the MASS library in R.  \n",
    "`library(MASS)`  \n",
    "#### Now the data set is contained in the object Boston.  \n",
    "`Boston`  \n",
    "#### Read about the data set:  \n",
    "`?Boston`  \n",
    "#### How many rows are in this data set? How many columns? What do the rows and columns represent?"
   ]
  },
  {
   "cell_type": "code",
   "execution_count": null,
   "metadata": {
    "collapsed": true
   },
   "outputs": [],
   "source": []
  },
  {
   "cell_type": "markdown",
   "metadata": {},
   "source": [
    "#### (b) Make some pairwise scatterplots of the predictors (columns) in this data set. Describe your findings."
   ]
  },
  {
   "cell_type": "code",
   "execution_count": null,
   "metadata": {
    "collapsed": true
   },
   "outputs": [],
   "source": []
  },
  {
   "cell_type": "markdown",
   "metadata": {},
   "source": [
    "#### (c) Are any of the predictors associated with per capita crime rate? If so, explain the relationship."
   ]
  },
  {
   "cell_type": "code",
   "execution_count": null,
   "metadata": {
    "collapsed": true
   },
   "outputs": [],
   "source": []
  },
  {
   "cell_type": "markdown",
   "metadata": {},
   "source": [
    "#### (d) Do any of the suburbs of Boston appear to have particularly high crime rates? Tax rates? Pupil-teacher ratios? Comment on the range of each predictor."
   ]
  },
  {
   "cell_type": "code",
   "execution_count": null,
   "metadata": {
    "collapsed": true
   },
   "outputs": [],
   "source": []
  },
  {
   "cell_type": "markdown",
   "metadata": {},
   "source": [
    "#### (e) How many of the suburbs in this data set bound the Charles river?"
   ]
  },
  {
   "cell_type": "code",
   "execution_count": null,
   "metadata": {
    "collapsed": true
   },
   "outputs": [],
   "source": []
  },
  {
   "cell_type": "markdown",
   "metadata": {},
   "source": [
    "#### (f) What is the median pupil-teacher ratio among the towns in thisdata set?"
   ]
  },
  {
   "cell_type": "code",
   "execution_count": null,
   "metadata": {
    "collapsed": true
   },
   "outputs": [],
   "source": []
  },
  {
   "cell_type": "markdown",
   "metadata": {},
   "source": [
    "#### (g) Which suburb of Boston has lowest median value of owner-occupied homes? What are the values of the other predictors for that suburb, and how do those values compare to the overall ranges for those predictors? Comment on your findings."
   ]
  },
  {
   "cell_type": "code",
   "execution_count": null,
   "metadata": {
    "collapsed": true
   },
   "outputs": [],
   "source": []
  },
  {
   "cell_type": "markdown",
   "metadata": {},
   "source": [
    "#### (h) In this data set, how many of the suburbs average more than seven rooms per dwelling? More than eight rooms per dwelling? Comment on the suburbs that average more than eight rooms per dwelling."
   ]
  },
  {
   "cell_type": "code",
   "execution_count": null,
   "metadata": {
    "collapsed": true
   },
   "outputs": [],
   "source": []
  }
 ],
 "metadata": {
  "kernelspec": {
   "display_name": "Python [conda root]",
   "language": "python",
   "name": "conda-root-py"
  },
  "language_info": {
   "codemirror_mode": {
    "name": "ipython",
    "version": 3
   },
   "file_extension": ".py",
   "mimetype": "text/x-python",
   "name": "python",
   "nbconvert_exporter": "python",
   "pygments_lexer": "ipython3",
   "version": "3.5.4"
  }
 },
 "nbformat": 4,
 "nbformat_minor": 2
}
